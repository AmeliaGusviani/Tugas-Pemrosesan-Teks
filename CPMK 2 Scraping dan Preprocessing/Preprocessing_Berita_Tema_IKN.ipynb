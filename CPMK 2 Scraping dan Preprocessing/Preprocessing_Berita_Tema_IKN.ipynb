{
  "nbformat": 4,
  "nbformat_minor": 0,
  "metadata": {
    "colab": {
      "provenance": []
    },
    "kernelspec": {
      "name": "python3",
      "display_name": "Python 3"
    },
    "language_info": {
      "name": "python"
    }
  },
  "cells": [
    {
      "cell_type": "markdown",
      "source": [
        "Tokenizing, Text Filtering, dan Text Parsing"
      ],
      "metadata": {
        "id": "A_j-tm2PQXbW"
      }
    },
    {
      "cell_type": "code",
      "execution_count": 1,
      "metadata": {
        "colab": {
          "base_uri": "https://localhost:8080/"
        },
        "id": "2x-lBYarQTyr",
        "outputId": "7ab3e4b4-3bc6-47cf-a3c9-e2e5880335bc"
      },
      "outputs": [
        {
          "output_type": "stream",
          "name": "stdout",
          "text": [
            "Collecting Sastrawi\n",
            "  Downloading Sastrawi-1.0.1-py2.py3-none-any.whl.metadata (909 bytes)\n",
            "Downloading Sastrawi-1.0.1-py2.py3-none-any.whl (209 kB)\n",
            "\u001b[?25l   \u001b[90m━━━━━━━━━━━━━━━━━━━━━━━━━━━━━━━━━━━━━━━━\u001b[0m \u001b[32m0.0/209.7 kB\u001b[0m \u001b[31m?\u001b[0m eta \u001b[36m-:--:--\u001b[0m\r\u001b[2K   \u001b[91m━━━━━━━━━━━━━━━━━━━━━━━━━━━━━━━━━━━━━━━\u001b[0m\u001b[90m╺\u001b[0m \u001b[32m204.8/209.7 kB\u001b[0m \u001b[31m7.3 MB/s\u001b[0m eta \u001b[36m0:00:01\u001b[0m\r\u001b[2K   \u001b[90m━━━━━━━━━━━━━━━━━━━━━━━━━━━━━━━━━━━━━━━━\u001b[0m \u001b[32m209.7/209.7 kB\u001b[0m \u001b[31m4.5 MB/s\u001b[0m eta \u001b[36m0:00:00\u001b[0m\n",
            "\u001b[?25hInstalling collected packages: Sastrawi\n",
            "Successfully installed Sastrawi-1.0.1\n"
          ]
        }
      ],
      "source": [
        "!pip install Sastrawi"
      ]
    },
    {
      "cell_type": "code",
      "source": [
        "import pandas as pd\n",
        "import re\n",
        "import nltk\n",
        "from nltk.corpus import stopwords\n",
        "from Sastrawi.Stemmer.StemmerFactory import StemmerFactory\n",
        "nltk.download('punkt')\n",
        "nltk.download('punkt_tab')\n",
        "nltk.download('stopwords')\n",
        "\n",
        "# =====================================\n",
        "# 0. Download resource NLTK\n",
        "# =====================================\n",
        "nltk.download('punkt')\n",
        "nltk.download('stopwords')\n",
        "\n",
        "# =====================================\n",
        "# 1. Baca data dan ambil kolom penting\n",
        "# =====================================\n",
        "df = pd.read_csv(\"/content/Case Folding_Berita_CNBC_Tema_IKN.csv\", sep=';', encoding='utf-8')\n",
        "df = df[['Title_Original', 'Title_Casefolded', 'Content_Original', 'Content_Casefolded']]\n",
        "\n",
        "# =====================================\n",
        "# 2. Hapus pembuka khas CNBC\n",
        "# =====================================\n",
        "def remove_cnbc_opening(text):\n",
        "    text = str(text).strip()\n",
        "\n",
        "    # Bersihkan karakter aneh (Â, Â , \\xa0, \\u202f, dll)\n",
        "    text = re.sub(r'[\\xa0Â\\u202f]+', ' ', text)\n",
        "\n",
        "    # Hapus pembuka khas CNBC, misal:\n",
        "    # jakarta, cnbc indonesia - ...\n",
        "    # akarta, cnbc indonesia - ...\n",
        "    # banjarmasin, cnbc indonesia — ...\n",
        "    text = re.sub(\n",
        "        r'([a-z\\s]*)?,?\\s*cnbc\\s*indonesia\\s*[-–—]\\s*',\n",
        "        '',\n",
        "        text,\n",
        "        flags=re.IGNORECASE\n",
        "    )\n",
        "\n",
        "    # Hapus bagian catatan opini\n",
        "    text = re.sub(\n",
        "        r'catatan\\s*:\\s*artikel\\s*ini\\s*merupakan\\s*opini.*?(redaksi)?cnbcindonesia\\.com',\n",
        "        '',\n",
        "        text,\n",
        "        flags=re.IGNORECASE\n",
        "    )\n",
        "\n",
        "    # Hapus penanda dokumen/foto seperti (dok. …) atau cnbc indonesia/fotografer\n",
        "    text = re.sub(r'\\(.*?dok.*?\\)', '', text, flags=re.IGNORECASE)\n",
        "    text = re.sub(r'cnbc\\s*indonesia\\s*/\\s*\\w+', '', text, flags=re.IGNORECASE)\n",
        "\n",
        "    # Bersihkan sisa spasi atau tanda baca ganda\n",
        "    text = re.sub(r'\\s+', ' ', text)\n",
        "    text = re.sub(r'\\s*,\\s*', ', ', text)\n",
        "    text = re.sub(r'\\s*\\.\\s*', '. ', text)\n",
        "\n",
        "    return text.strip()\n",
        "\n",
        "df['Content_Cleaned'] = df['Content_Casefolded'].apply(remove_cnbc_opening)\n",
        "\n",
        "# =====================================\n",
        "# 3. Tokenizing\n",
        "# =====================================\n",
        "def tokenize_text(text):\n",
        "    return nltk.word_tokenize(str(text))\n",
        "\n",
        "df['Tokens'] = df['Content_Cleaned'].apply(tokenize_text)\n",
        "\n",
        "# =====================================\n",
        "# 4. Text Filtering (hapus angka, tanda baca, stopwords)\n",
        "# =====================================\n",
        "stop_words = set(stopwords.words('indonesian'))\n",
        "\n",
        "def filter_tokens(tokens):\n",
        "    clean_tokens = [w for w in tokens if w.isalpha() and w.lower() not in stop_words]\n",
        "    return clean_tokens\n",
        "\n",
        "df['Filtered_Tokens'] = df['Tokens'].apply(filter_tokens)\n",
        "\n",
        "# =====================================\n",
        "# 5. Stemming (Text Parsing)\n",
        "# =====================================\n",
        "factory = StemmerFactory()\n",
        "stemmer = factory.create_stemmer()\n",
        "\n",
        "def stem_tokens(tokens):\n",
        "    return [stemmer.stem(word) for word in tokens]\n",
        "\n",
        "df['Stemmed_Tokens'] = df['Filtered_Tokens'].apply(stem_tokens)\n",
        "\n",
        "# =====================================\n",
        "# 6. Simpan hasil preprocessing\n",
        "# =====================================\n",
        "# Simpan hasil\n",
        "df.to_csv(\"Hasil_Preprocessing_Berita_CNBC_Tema_IKN.csv\", sep=';', index=False, encoding='utf-8')\n",
        "\n",
        "# Download langsung\n",
        "from google.colab import files\n",
        "files.download(\"Hasil_Preprocessing_Berita_CNBC_Tema_IKN.csv\")\n",
        "\n",
        "\n",
        "print(\"✅ Preprocessing selesai! Hasil tiap tahap disimpan di cnbc_ikn_preprocessed_full.csv\")\n"
      ],
      "metadata": {
        "colab": {
          "base_uri": "https://localhost:8080/",
          "height": 208
        },
        "id": "eB3_JfOSQaM7",
        "outputId": "ade38e08-f8bd-4bfb-952f-2946e4c46001"
      },
      "execution_count": 2,
      "outputs": [
        {
          "output_type": "stream",
          "name": "stderr",
          "text": [
            "[nltk_data] Downloading package punkt to /root/nltk_data...\n",
            "[nltk_data]   Unzipping tokenizers/punkt.zip.\n",
            "[nltk_data] Downloading package punkt_tab to /root/nltk_data...\n",
            "[nltk_data]   Unzipping tokenizers/punkt_tab.zip.\n",
            "[nltk_data] Downloading package stopwords to /root/nltk_data...\n",
            "[nltk_data]   Unzipping corpora/stopwords.zip.\n",
            "[nltk_data] Downloading package punkt to /root/nltk_data...\n",
            "[nltk_data]   Package punkt is already up-to-date!\n",
            "[nltk_data] Downloading package stopwords to /root/nltk_data...\n",
            "[nltk_data]   Package stopwords is already up-to-date!\n"
          ]
        },
        {
          "output_type": "display_data",
          "data": {
            "text/plain": [
              "<IPython.core.display.Javascript object>"
            ],
            "application/javascript": [
              "\n",
              "    async function download(id, filename, size) {\n",
              "      if (!google.colab.kernel.accessAllowed) {\n",
              "        return;\n",
              "      }\n",
              "      const div = document.createElement('div');\n",
              "      const label = document.createElement('label');\n",
              "      label.textContent = `Downloading \"${filename}\": `;\n",
              "      div.appendChild(label);\n",
              "      const progress = document.createElement('progress');\n",
              "      progress.max = size;\n",
              "      div.appendChild(progress);\n",
              "      document.body.appendChild(div);\n",
              "\n",
              "      const buffers = [];\n",
              "      let downloaded = 0;\n",
              "\n",
              "      const channel = await google.colab.kernel.comms.open(id);\n",
              "      // Send a message to notify the kernel that we're ready.\n",
              "      channel.send({})\n",
              "\n",
              "      for await (const message of channel.messages) {\n",
              "        // Send a message to notify the kernel that we're ready.\n",
              "        channel.send({})\n",
              "        if (message.buffers) {\n",
              "          for (const buffer of message.buffers) {\n",
              "            buffers.push(buffer);\n",
              "            downloaded += buffer.byteLength;\n",
              "            progress.value = downloaded;\n",
              "          }\n",
              "        }\n",
              "      }\n",
              "      const blob = new Blob(buffers, {type: 'application/binary'});\n",
              "      const a = document.createElement('a');\n",
              "      a.href = window.URL.createObjectURL(blob);\n",
              "      a.download = filename;\n",
              "      div.appendChild(a);\n",
              "      a.click();\n",
              "      div.remove();\n",
              "    }\n",
              "  "
            ]
          },
          "metadata": {}
        },
        {
          "output_type": "display_data",
          "data": {
            "text/plain": [
              "<IPython.core.display.Javascript object>"
            ],
            "application/javascript": [
              "download(\"download_5afc0dd8-2101-48fb-945b-f0c323c2ab7b\", \"Hasil_Preprocessing_Berita_CNBC_Tema_IKN.csv\", 12695882)"
            ]
          },
          "metadata": {}
        },
        {
          "output_type": "stream",
          "name": "stdout",
          "text": [
            "✅ Preprocessing selesai! Hasil tiap tahap disimpan di cnbc_ikn_preprocessed_full.csv\n"
          ]
        }
      ]
    }
  ]
}